{
 "cells": [
  {
   "cell_type": "markdown",
   "id": "d9768340-2ab5-4c2f-99e6-febc99e32ef1",
   "metadata": {},
   "source": [
    "### Lab 6 : Python Implementation of Word Embeddings using Fasttext"
   ]
  },
  {
   "cell_type": "code",
   "execution_count": 2,
   "id": "42e79859-d7ed-4294-82f9-52ba9547e0c8",
   "metadata": {},
   "outputs": [
    {
     "name": "stderr",
     "output_type": "stream",
     "text": [
      "[nltk_data] Downloading package punkt to\n",
      "[nltk_data]     C:\\Users\\admi\\AppData\\Roaming\\nltk_data...\n",
      "[nltk_data]   Package punkt is already up-to-date!\n"
     ]
    },
    {
     "data": {
      "text/plain": [
       "True"
      ]
     },
     "execution_count": 2,
     "metadata": {},
     "output_type": "execute_result"
    }
   ],
   "source": [
    "# Import necessary libraries\n",
    "from gensim.models import FastText\n",
    "from nltk.tokenize import word_tokenize\n",
    "from nltk import download\n",
    "# Download required NLTK data\n",
    "download('punkt')"
   ]
  },
  {
   "cell_type": "code",
   "execution_count": 3,
   "id": "52165a0e-8f43-4245-8707-0592c21a2fa3",
   "metadata": {},
   "outputs": [
    {
     "name": "stdout",
     "output_type": "stream",
     "text": [
      "Word Vector for 'language': [-0.00461428  0.01921903 -0.00035116 -0.00750383 -0.02619313]\n",
      "Word Vector for 'NLPfun': [ 0.01152632  0.00589536 -0.01608402 -0.00613909  0.00409522]\n"
     ]
    }
   ],
   "source": [
    "# Example sentences\n",
    "sentences = [\n",
    "    \"Natural Language Processing is fun.\",\n",
    "    \"Language models are improving every day.\"\n",
    "]\n",
    "# Tokenize sentences\n",
    "tokenized_sentences = [word_tokenize(sentence.lower()) for sentence in sentences]\n",
    "\n",
    "# Train the FastText model\n",
    "model = FastText(sentences=tokenized_sentences, vector_size=5, window=5, min_count=1, workers=4, sg=1)\n",
    "\n",
    "# Get word vectors\n",
    "word_vectors = model.wv\n",
    "print(\"Word Vector for 'language':\", word_vectors['language'])\n",
    "\n",
    "# Get vector for an OOV word\n",
    "print(\"Word Vector for 'NLPfun':\", word_vectors['nlpfun'])"
   ]
  }
 ],
 "metadata": {
  "kernelspec": {
   "display_name": "Python 3 (ipykernel)",
   "language": "python",
   "name": "python3"
  },
  "language_info": {
   "codemirror_mode": {
    "name": "ipython",
    "version": 3
   },
   "file_extension": ".py",
   "mimetype": "text/x-python",
   "name": "python",
   "nbconvert_exporter": "python",
   "pygments_lexer": "ipython3",
   "version": "3.12.3"
  }
 },
 "nbformat": 4,
 "nbformat_minor": 5
}
