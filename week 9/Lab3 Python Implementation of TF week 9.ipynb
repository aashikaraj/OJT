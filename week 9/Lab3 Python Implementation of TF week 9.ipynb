{
 "cells": [
  {
   "cell_type": "markdown",
   "id": "a87b472b-3ab4-447b-8233-4b604dbe9351",
   "metadata": {},
   "source": [
    "# Lab 3 : Python Implementation of TF-IDF"
   ]
  },
  {
   "cell_type": "code",
   "execution_count": 1,
   "id": "0602295f-6f13-4af6-9dbd-cc66781b08e0",
   "metadata": {},
   "outputs": [],
   "source": [
    "from sklearn.feature_extraction.text import TfidfVectorizer"
   ]
  },
  {
   "cell_type": "code",
   "execution_count": 6,
   "id": "2fead861-4339-45c9-af56-461c77e0f6c4",
   "metadata": {},
   "outputs": [],
   "source": [
    "# Example documents\n",
    "documents = [\n",
    "    \"Natural Language processing is fun.\",\n",
    "    \"language models are improving every day.\"\n",
    "]"
   ]
  },
  {
   "cell_type": "code",
   "execution_count": 7,
   "id": "76652497-4950-46fe-9e13-2bd0de50b893",
   "metadata": {},
   "outputs": [
    {
     "ename": "NameError",
     "evalue": "name 'tfidf_vectorizer' is not defined",
     "output_type": "error",
     "traceback": [
      "\u001b[1;31m---------------------------------------------------------------------------\u001b[0m",
      "\u001b[1;31mNameError\u001b[0m                                 Traceback (most recent call last)",
      "Cell \u001b[1;32mIn[7], line 2\u001b[0m\n\u001b[0;32m      1\u001b[0m \u001b[38;5;66;03m# Create the TfidfVectorizer object\u001b[39;00m\n\u001b[1;32m----> 2\u001b[0m \u001b[43mtfidf_vectorizer\u001b[49m()\n",
      "\u001b[1;31mNameError\u001b[0m: name 'tfidf_vectorizer' is not defined"
     ]
    }
   ],
   "source": [
    "# Create the TfidfVectorizer object\n",
    "tfidf_vectorizer()"
   ]
  },
  {
   "cell_type": "code",
   "execution_count": 8,
   "id": "99dce7c5-9373-4c16-ba6c-6618259593ce",
   "metadata": {},
   "outputs": [
    {
     "ename": "NameError",
     "evalue": "name 'tfidf_vectorizer' is not defined",
     "output_type": "error",
     "traceback": [
      "\u001b[1;31m---------------------------------------------------------------------------\u001b[0m",
      "\u001b[1;31mNameError\u001b[0m                                 Traceback (most recent call last)",
      "Cell \u001b[1;32mIn[8], line 2\u001b[0m\n\u001b[0;32m      1\u001b[0m \u001b[38;5;66;03m# Fit the model and transform the documents into a TF-IDF representation\u001b[39;00m\n\u001b[1;32m----> 2\u001b[0m X_tfidf \u001b[38;5;241m=\u001b[39m \u001b[43mtfidf_vectorizer\u001b[49m\u001b[38;5;241m.\u001b[39mfit_transform(documents)\n",
      "\u001b[1;31mNameError\u001b[0m: name 'tfidf_vectorizer' is not defined"
     ]
    }
   ],
   "source": [
    "# Fit the model and transform the documents into a TF-IDF representation\n",
    "X_tfidf = tfidf_vectorizer.fit_transform(documents)"
   ]
  },
  {
   "cell_type": "code",
   "execution_count": 9,
   "id": "679163f5-5e33-4ad3-ba7b-a7883352278c",
   "metadata": {},
   "outputs": [
    {
     "ename": "NameError",
     "evalue": "name 'tfidf_vectorizer' is not defined",
     "output_type": "error",
     "traceback": [
      "\u001b[1;31m---------------------------------------------------------------------------\u001b[0m",
      "\u001b[1;31mNameError\u001b[0m                                 Traceback (most recent call last)",
      "Cell \u001b[1;32mIn[9], line 2\u001b[0m\n\u001b[0;32m      1\u001b[0m \u001b[38;5;66;03m# Convert the sparse matrix to a dense array and display vocabulary and TF-IDF representation\u001b[39;00m\n\u001b[1;32m----> 2\u001b[0m \u001b[38;5;28mprint\u001b[39m(\u001b[38;5;124m\"\u001b[39m\u001b[38;5;124mVocabulary:\u001b[39m\u001b[38;5;124m\"\u001b[39m, \u001b[43mtfidf_vectorizer\u001b[49m\u001b[38;5;241m.\u001b[39mvocabulary_)\n\u001b[0;32m      3\u001b[0m \u001b[38;5;28mprint\u001b[39m(\u001b[38;5;124m\"\u001b[39m\u001b[38;5;124mTF-IDF Representation:\u001b[39m\u001b[38;5;130;01m\\n\u001b[39;00m\u001b[38;5;124m\"\u001b[39m, X_tfidf\u001b[38;5;241m.\u001b[39mtoarray())\n",
      "\u001b[1;31mNameError\u001b[0m: name 'tfidf_vectorizer' is not defined"
     ]
    }
   ],
   "source": [
    "# Convert the sparse matrix to a dense array and display vocabulary and TF-IDF representation\n",
    "print(\"Vocabulary:\", tfidf_vectorizer.vocabulary_)\n",
    "print(\"TF-IDF Representation:\\n\", X_tfidf.toarray())"
   ]
  },
  {
   "cell_type": "code",
   "execution_count": null,
   "id": "75018346-102f-438b-9620-5e10a54abef7",
   "metadata": {},
   "outputs": [],
   "source": []
  }
 ],
 "metadata": {
  "kernelspec": {
   "display_name": "Python 3 (ipykernel)",
   "language": "python",
   "name": "python3"
  },
  "language_info": {
   "codemirror_mode": {
    "name": "ipython",
    "version": 3
   },
   "file_extension": ".py",
   "mimetype": "text/x-python",
   "name": "python",
   "nbconvert_exporter": "python",
   "pygments_lexer": "ipython3",
   "version": "3.12.3"
  }
 },
 "nbformat": 4,
 "nbformat_minor": 5
}
