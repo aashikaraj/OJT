{
 "cells": [
  {
   "cell_type": "markdown",
   "id": "a87b472b-3ab4-447b-8233-4b604dbe9351",
   "metadata": {},
   "source": [
    "# Lab 3 : Python Implementation of TF-IDF"
   ]
  },
  {
   "cell_type": "code",
   "execution_count": 1,
   "id": "0602295f-6f13-4af6-9dbd-cc66781b08e0",
   "metadata": {},
   "outputs": [],
   "source": [
    "from sklearn.feature_extraction.text import TfidfVectorizer"
   ]
  },
  {
   "cell_type": "code",
   "execution_count": 6,
   "id": "2fead861-4339-45c9-af56-461c77e0f6c4",
   "metadata": {},
   "outputs": [],
   "source": [
    "# Example documents\n",
    "documents = [\n",
    "    \"Natural Language processing is fun.\",\n",
    "    \"language models are improving every day.\"\n",
    "]"
   ]
  },
  {
   "cell_type": "code",
   "execution_count": 14,
   "id": "76652497-4950-46fe-9e13-2bd0de50b893",
   "metadata": {},
   "outputs": [],
   "source": [
    "# Create the TfidfVectorizer object\n",
    "tfidf_vectorizer = TfidfVectorizer()"
   ]
  },
  {
   "cell_type": "code",
   "execution_count": 15,
   "id": "99dce7c5-9373-4c16-ba6c-6618259593ce",
   "metadata": {},
   "outputs": [],
   "source": [
    "# Fit the model and transform the documents into a TF-IDF representation\n",
    "X_tfidf = tfidf_vectorizer.fit_transform(documents)"
   ]
  },
  {
   "cell_type": "code",
   "execution_count": 16,
   "id": "679163f5-5e33-4ad3-ba7b-a7883352278c",
   "metadata": {},
   "outputs": [
    {
     "name": "stdout",
     "output_type": "stream",
     "text": [
      "Vocabulary: {'natural': 8, 'language': 6, 'processing': 9, 'is': 5, 'fun': 3, 'models': 7, 'are': 0, 'improving': 4, 'every': 2, 'day': 1}\n",
      "TF-IDF Representation:\n",
      " [[0.         0.         0.         0.47107781 0.         0.47107781\n",
      "  0.33517574 0.         0.47107781 0.47107781]\n",
      " [0.4261596  0.4261596  0.4261596  0.         0.4261596  0.\n",
      "  0.30321606 0.4261596  0.         0.        ]]\n"
     ]
    }
   ],
   "source": [
    "# Convert the sparse matrix to a dense array and display vocabulary and TF-IDF representation\n",
    "print(\"Vocabulary:\", tfidf_vectorizer.vocabulary_)\n",
    "print(\"TF-IDF Representation:\\n\", X_tfidf.toarray())"
   ]
  }
 ],
 "metadata": {
  "kernelspec": {
   "display_name": "Python 3 (ipykernel)",
   "language": "python",
   "name": "python3"
  },
  "language_info": {
   "codemirror_mode": {
    "name": "ipython",
    "version": 3
   },
   "file_extension": ".py",
   "mimetype": "text/x-python",
   "name": "python",
   "nbconvert_exporter": "python",
   "pygments_lexer": "ipython3",
   "version": "3.12.3"
  }
 },
 "nbformat": 4,
 "nbformat_minor": 5
}
