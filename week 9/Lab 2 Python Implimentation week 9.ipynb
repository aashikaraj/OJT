{
 "cells": [
  {
   "cell_type": "markdown",
   "id": "e6359dfa-2191-48ba-b0a2-a55355efe944",
   "metadata": {},
   "source": [
    "# Lab 2 : Python Implimentation of Bag of Words"
   ]
  },
  {
   "cell_type": "code",
   "execution_count": 1,
   "id": "972171f9-a00e-482b-a9b0-002fd61b6cf5",
   "metadata": {},
   "outputs": [],
   "source": [
    "from sklearn.feature_extraction.text import CountVectorizer"
   ]
  },
  {
   "cell_type": "code",
   "execution_count": 2,
   "id": "5a391f44-76a7-4db8-8cdb-31c6c7f66fbb",
   "metadata": {},
   "outputs": [],
   "source": [
    "# Example  documents\n",
    "documents = [\n",
    "    \"Natural Language Processing is fun.\",\n",
    "    \"Language models are improving every day]"
   ]
  },
  {
   "cell_type": "code",
   "execution_count": 3,
   "id": "08f5f857-5562-4a38-9726-c50ef4b42d58",
   "metadata": {},
   "outputs": [],
   "source": [
    "# Example documents\n",
    "documents = [\n",
    "    \"Natural Language Processing is fun.\",\n",
    "    \"Language models are improving every day.\"\n",
    "]"
   ]
  },
  {
   "cell_type": "code",
   "execution_count": 4,
   "id": "46517826-0ba7-460d-9319-676a63947dc4",
   "metadata": {},
   "outputs": [],
   "source": [
    "# Create the CountVectorizer object\n",
    "vectorizer = CountVectorizer()"
   ]
  },
  {
   "cell_type": "code",
   "execution_count": 7,
   "id": "d849851d-ea70-425f-903f-a6d6f4fc11cb",
   "metadata": {},
   "outputs": [],
   "source": [
    "# fit the model and transform the documents into a BoW representation\n",
    "X = vectorizer.fit_transform(documents)"
   ]
  },
  {
   "cell_type": "code",
   "execution_count": 8,
   "id": "8d3030d3-b5f2-4935-a4bc-f0e390ea623b",
   "metadata": {},
   "outputs": [
    {
     "name": "stdout",
     "output_type": "stream",
     "text": [
      "Vocabulary: {'natural': 8, 'language': 6, 'processing': 9, 'is': 5, 'fun': 3, 'models': 7, 'are': 0, 'improving': 4, 'every': 2, 'day': 1}\n"
     ]
    },
    {
     "ename": "NameError",
     "evalue": "name 'x' is not defined",
     "output_type": "error",
     "traceback": [
      "\u001b[1;31m---------------------------------------------------------------------------\u001b[0m",
      "\u001b[1;31mNameError\u001b[0m                                 Traceback (most recent call last)",
      "Cell \u001b[1;32mIn[8], line 3\u001b[0m\n\u001b[0;32m      1\u001b[0m \u001b[38;5;66;03m# Convert the sparse matrix to a dense array and display vocabulary and BoW representation\u001b[39;00m\n\u001b[0;32m      2\u001b[0m \u001b[38;5;28mprint\u001b[39m(\u001b[38;5;124m\"\u001b[39m\u001b[38;5;124mVocabulary:\u001b[39m\u001b[38;5;124m\"\u001b[39m, vectorizer\u001b[38;5;241m.\u001b[39mvocabulary_)\n\u001b[1;32m----> 3\u001b[0m \u001b[38;5;28mprint\u001b[39m(\u001b[38;5;124m\"\u001b[39m\u001b[38;5;124mBoW Representation:\u001b[39m\u001b[38;5;130;01m\\n\u001b[39;00m\u001b[38;5;124m\"\u001b[39m, \u001b[43mx\u001b[49m\u001b[38;5;241m.\u001b[39mtoarray())\n",
      "\u001b[1;31mNameError\u001b[0m: name 'x' is not defined"
     ]
    }
   ],
   "source": [
    "# Convert the sparse matrix to a dense array and display vocabulary and BoW representation\n",
    "print(\"Vocabulary:\", vectorizer.vocabulary_)\n",
    "print(\"BoW Representation:\\n\", x.toarray())"
   ]
  },
  {
   "cell_type": "code",
   "execution_count": null,
   "id": "19845667-f182-4e7e-b402-31fbf3a5d257",
   "metadata": {},
   "outputs": [],
   "source": []
  }
 ],
 "metadata": {
  "kernelspec": {
   "display_name": "Python 3 (ipykernel)",
   "language": "python",
   "name": "python3"
  },
  "language_info": {
   "codemirror_mode": {
    "name": "ipython",
    "version": 3
   },
   "file_extension": ".py",
   "mimetype": "text/x-python",
   "name": "python",
   "nbconvert_exporter": "python",
   "pygments_lexer": "ipython3",
   "version": "3.12.3"
  }
 },
 "nbformat": 4,
 "nbformat_minor": 5
}
