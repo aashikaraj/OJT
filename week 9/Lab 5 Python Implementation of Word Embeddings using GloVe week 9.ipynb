{
 "cells": [
  {
   "cell_type": "code",
   "execution_count": 1,
   "id": "56c1070c-80b1-446c-a0c9-21ada0f900f0",
   "metadata": {},
   "outputs": [
    {
     "name": "stdout",
     "output_type": "stream",
     "text": [
      "Defaulting to user installation because normal site-packages is not writeable\n",
      "Requirement already satisfied: scipy==1.12 in c:\\users\\admi\\appdata\\roaming\\python\\python312\\site-packages (1.12.0)\n",
      "Requirement already satisfied: numpy<1.29.0,>=1.22.4 in c:\\users\\admi\\appdata\\roaming\\python\\python312\\site-packages (from scipy==1.12) (1.26.4)\n",
      "Note: you may need to restart the kernel to use updated packages.\n"
     ]
    }
   ],
   "source": [
    "pip install scipy==1.12"
   ]
  },
  {
   "cell_type": "code",
   "execution_count": 2,
   "id": "0980ce41-cd2b-42ed-b260-7a2d442d85e5",
   "metadata": {},
   "outputs": [
    {
     "name": "stdout",
     "output_type": "stream",
     "text": [
      "Defaulting to user installation because normal site-packages is not writeable\n",
      "Requirement already satisfied: gensim in c:\\users\\admi\\appdata\\roaming\\python\\python312\\site-packages (4.3.3)\n",
      "Requirement already satisfied: numpy<2.0,>=1.18.5 in c:\\users\\admi\\appdata\\roaming\\python\\python312\\site-packages (from gensim) (1.26.4)\n",
      "Requirement already satisfied: scipy<1.14.0,>=1.7.0 in c:\\users\\admi\\appdata\\roaming\\python\\python312\\site-packages (from gensim) (1.12.0)\n",
      "Requirement already satisfied: smart-open>=1.8.1 in c:\\users\\admi\\appdata\\roaming\\python\\python312\\site-packages (from gensim) (7.0.4)\n",
      "Requirement already satisfied: wrapt in c:\\users\\admi\\appdata\\roaming\\python\\python312\\site-packages (from smart-open>=1.8.1->gensim) (1.16.0)\n",
      "Note: you may need to restart the kernel to use updated packages.\n"
     ]
    }
   ],
   "source": [
    "pip install gensim"
   ]
  },
  {
   "cell_type": "code",
   "execution_count": 3,
   "id": "09f4cca8-53f9-4c77-b256-3a080df9ec4f",
   "metadata": {},
   "outputs": [],
   "source": [
    "import gensim.downloader as api"
   ]
  },
  {
   "cell_type": "code",
   "execution_count": 4,
   "id": "031ae1f2-df7d-47c7-8ae9-ec7ad18258cc",
   "metadata": {},
   "outputs": [
    {
     "name": "stdout",
     "output_type": "stream",
     "text": [
      "Dimensions of 50d GloVe vector: 50\n"
     ]
    }
   ],
   "source": [
    "# Load the pre-trained GloVe model with 50 dimensions\n",
    "glove_vectors_50d = api.load(\"glove-wiki-gigaword-50\")\n",
    "print(\"Dimensions of 50d GloVe vector:\", len(glove_vectors_50d['language']))"
   ]
  },
  {
   "cell_type": "code",
   "execution_count": 5,
   "id": "7590a4d7-bbe5-49d3-8de5-7f060ab286ba",
   "metadata": {},
   "outputs": [
    {
     "name": "stdout",
     "output_type": "stream",
     "text": [
      "Dimensions of 100d GloVe vector: 100\n"
     ]
    }
   ],
   "source": [
    "# Load the pre-trained GloVe model with 100 dimensions\n",
    "glove_vectors_100d = api.load(\"glove-wiki-gigaword-100\")\n",
    "print(\"Dimensions of 100d GloVe vector:\", len(glove_vectors_100d['language']))"
   ]
  },
  {
   "cell_type": "code",
   "execution_count": 6,
   "id": "7b577e68-5922-4864-ba5d-264b5f65a97b",
   "metadata": {},
   "outputs": [
    {
     "name": "stdout",
     "output_type": "stream",
     "text": [
      "[==================================================] 100.0% 252.1/252.1MB downloaded\n",
      "Dimensions of 200d GloVe vector: 200\n"
     ]
    }
   ],
   "source": [
    "# Load the pre-trained GloVe model with 200 dimensions\n",
    "glove_vectors_200d = api.load(\"glove-wiki-gigaword-200\")\n",
    "print(\"Dimensions of 200d GloVe vector:\", len(glove_vectors_200d['language']))"
   ]
  },
  {
   "cell_type": "code",
   "execution_count": 7,
   "id": "73e2d6f2-7bf8-4ad1-a253-9f60b62d5d2f",
   "metadata": {},
   "outputs": [
    {
     "name": "stdout",
     "output_type": "stream",
     "text": [
      "[==================================================] 100.0% 376.1/376.1MB downloaded\n",
      "Dimensions of 300d GloVe vector: 300\n"
     ]
    }
   ],
   "source": [
    "# Load the pre-trained GloVe model with 300 dimensions\n",
    "glove_vectors_300d = api.load(\"glove-wiki-gigaword-300\")\n",
    "print(\"Dimensions of 300d GloVe vector:\", len(glove_vectors_300d['language']))"
   ]
  }
 ],
 "metadata": {
  "kernelspec": {
   "display_name": "Python 3 (ipykernel)",
   "language": "python",
   "name": "python3"
  },
  "language_info": {
   "codemirror_mode": {
    "name": "ipython",
    "version": 3
   },
   "file_extension": ".py",
   "mimetype": "text/x-python",
   "name": "python",
   "nbconvert_exporter": "python",
   "pygments_lexer": "ipython3",
   "version": "3.12.3"
  }
 },
 "nbformat": 4,
 "nbformat_minor": 5
}
